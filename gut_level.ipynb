{
 "cells": [
  {
   "cell_type": "code",
   "execution_count": 26,
   "metadata": {},
   "outputs": [],
   "source": [
    "#imports\n",
    "import numpy as np\n",
    "import pandas as pd\n",
    "import matplotlib.pyplot as plt\n",
    "from matplotlib.colors import ListedColormap\n",
    "import copy\n",
    "\n",
    "# Sklearn\n",
    "from sklearn.decomposition import LatentDirichletAllocation, TruncatedSVD, PCA\n",
    "from sklearn.manifold import TSNE, MDS\n",
    "from sklearn.feature_extraction.text import CountVectorizer, TfidfVectorizer\n",
    "from sklearn.model_selection import GridSearchCV\n",
    "from sklearn.preprocessing import StandardScaler"
   ]
  },
  {
   "cell_type": "code",
   "execution_count": 27,
   "metadata": {},
   "outputs": [],
   "source": [
    "gut_sites = pd.read_csv('../hurwitzlab/data_sets/HMP_V13_participant_data.csv')\n",
    "\n",
    "gut_sites = gut_sites[gut_sites['HMP_BODY_SITE'] == 'Gastrointestinal Tract']\n",
    "\n",
    "gut_site_mapping = {site: idx for idx, site in enumerate(gut_sites['HMP_BODY_SUBSITE'].unique())}\n",
    "\n",
    "gut_site_ints = gut_sites['HMP_BODY_SUBSITE'].map(gut_site_mapping)\n",
    "\n",
    "body_sites = pd.read_csv('../hurwitzlab/data_sets/HMP_V13_participant_data.csv')"
   ]
  },
  {
   "cell_type": "code",
   "execution_count": null,
   "metadata": {},
   "outputs": [],
   "source": [
    "print(gut_sites['HMP_BODY_SUBSITE'].unique())  # Check the unique values in the column"
   ]
  },
  {
   "cell_type": "code",
   "execution_count": null,
   "metadata": {},
   "outputs": [],
   "source": [
    "df = pd.read_csv(\"../hurwitzlab/data_sets/HMP_V13_OTU_counts.csv\")\n",
    "df = df.drop(columns = ['PSN'])\n",
    "\n",
    "df['body_sites'] = body_sites['HMP_BODY_SITE']\n",
    "\n",
    "df = df[df['body_sites'] == 'Gastrointestinal Tract']\n",
    "\n",
    "df = df.drop(columns=['body_sites'])\n",
    "\n",
    "# Standardize the data\n",
    "scaler = StandardScaler()\n",
    "scaled_df = scaler.fit_transform(df)\n",
    "\n",
    "# Initial dimensionality reduction\n",
    "pca = PCA(n_components=50)\n",
    "reduced_df = pca.fit_transform(scaled_df)\n",
    "\n",
    "# Dimensionality reduction for visualization\n",
    "tsne = TSNE(n_components=2, init='pca', random_state=0)\n",
    "result = tsne.fit_transform(reduced_df)"
   ]
  },
  {
   "cell_type": "code",
   "execution_count": null,
   "metadata": {},
   "outputs": [],
   "source": [
    "custom_colors = ['red', 'blue', 'green', 'yellow', 'purple', 'orange', 'pink', 'brown', 'olive', 'cyan']\n",
    "cmap = ListedColormap(custom_colors)\n",
    "\n",
    "# Plot with body sites\n",
    "# Red = gut, blue = oral, green = airways, yellow = skin, purple = urogenital\n",
    "fig = plt.figure(1, figsize=(8, 8))\n",
    "plt.clf()\n",
    "scatter = plt.scatter(result[:, 0], result[:, 1], c=gut_site_ints, cmap=cmap, s=15)\n",
    "plt.savefig(\"gut_site_plot.svg\")\n",
    "plt.show()"
   ]
  },
  {
   "cell_type": "code",
   "execution_count": 30,
   "metadata": {},
   "outputs": [],
   "source": [
    "def outputTableandGraph(df, lda, tax_level, filter):\n",
    "\n",
    "    frequency_table = df.values\n",
    "    topic_distributions = lda.transform(frequency_table)\n",
    "\n",
    "    strongest_topic_indices = topic_distributions.argmax(axis=1)\n",
    "\n",
    "    gut_sites['Strongest_Topic'] = strongest_topic_indices\n",
    "\n",
    "    topic_counts_by_site = gut_sites.groupby(['HMP_BODY_SUBSITE', 'Strongest_Topic']).size().unstack(fill_value=0)\n",
    "\n",
    "    print(topic_counts_by_site)\n",
    "\n",
    "    LDA_mapping = {site: idx for idx, site in enumerate(gut_sites['Strongest_Topic'].unique())}\n",
    "\n",
    "    LDA_ints = gut_sites['Strongest_Topic'].map(LDA_mapping)\n",
    "\n",
    "    custom_colors = ['red', 'blue', 'green', 'yellow', 'purple', 'orange', 'pink', 'brown', 'olive', 'cyan']\n",
    "    cmap = ListedColormap(custom_colors)\n",
    "\n",
    "    fig = plt.figure(1, figsize=(8, 8))\n",
    "    plt.clf()\n",
    "    scatter = plt.scatter(result[:, 0], result[:, 1], c=LDA_ints, cmap=cmap, s=15)\n",
    "    plt.savefig(tax_level + \"_gut_comp_plot_\" + str(filter) + \".svg\")\n",
    "    plt.show()"
   ]
  },
  {
   "cell_type": "code",
   "execution_count": 46,
   "metadata": {},
   "outputs": [],
   "source": [
    "def findGutComponentNum(tax_level, file_name, filter):\n",
    "    df = pd.read_csv('../hurwitzlab/data_sets/' + file_name + '.csv')\n",
    "    df = df.drop(columns = ['PSN'])\n",
    "\n",
    "    # Processing df to only be gut sites\n",
    "    df['body_sites'] = body_sites['HMP_BODY_SITE']\n",
    "    df = df[df['body_sites'] == 'Gastrointestinal Tract']\n",
    "    df = df.drop(columns=['body_sites'])\n",
    "\n",
    "    threshold = 10\n",
    "\n",
    "    if filter == 1:\n",
    "        df = df.loc[:, (df != 0).sum(axis=0) > threshold]\n",
    "\n",
    "    frequency_table = df.values\n",
    "\n",
    "    # Initial LDA with 2 components\n",
    "    bestLDA = LatentDirichletAllocation(n_components=2, random_state=0)\n",
    "    bestLDA.fit(frequency_table)\n",
    "    lowestPerplexity = bestLDA.perplexity(frequency_table)\n",
    "    bestComponentNum = 2\n",
    "\n",
    "    print(bestComponentNum, ',', lowestPerplexity, '\\n')\n",
    "\n",
    "    componentNum = 3\n",
    "\n",
    "    while componentNum <= 10:\n",
    "        LDA = LatentDirichletAllocation(n_components=componentNum, random_state=0)\n",
    "        LDA.fit(frequency_table)\n",
    "        perplexity = LDA.perplexity(frequency_table)\n",
    "\n",
    "        print(componentNum, ', ', perplexity, '\\n')\n",
    "\n",
    "        if perplexity < lowestPerplexity:\n",
    "            bestLDA = copy.deepcopy(LDA)\n",
    "            lowestPerplexity = perplexity\n",
    "            bestComponentNum = componentNum  # Update best component number\n",
    "        else:\n",
    "            # Stop if perplexity starts increasing\n",
    "            break\n",
    "\n",
    "        componentNum += 1\n",
    "\n",
    "    print(tax_level, '- Best Component number:', bestComponentNum, ', Perplexity:', lowestPerplexity, '\\n')\n",
    "\n",
    "    return bestLDA, df"
   ]
  },
  {
   "cell_type": "code",
   "execution_count": 50,
   "metadata": {},
   "outputs": [],
   "source": [
    "def topicBreakdown(df, lda, input, output):\n",
    "    vocab = df.columns\n",
    "\n",
    "    result = ''\n",
    "\n",
    "    for i, comp in enumerate(lda.components_):\n",
    "        vocab_comp = zip(vocab, comp)\n",
    "        sorted_words = sorted(vocab_comp, key=lambda x: x[1], reverse=True)[:10]  # Get top 10 words for the topic\n",
    "        result += (\"Topic \" + str(i) + \": \")\n",
    "\n",
    "        # Return the vocab words directly\n",
    "        for t in sorted_words:\n",
    "            result += (str(t[0]) + ' ')  # Only add the vocab word (ignoring taxonomy)\n",
    "\n",
    "        result += \"\\n\"\n",
    "\n",
    "    print(result)"
   ]
  },
  {
   "cell_type": "code",
   "execution_count": 51,
   "metadata": {},
   "outputs": [],
   "source": [
    "def completeGutAnalysis(tax_level, file_name, filter, inputLevel, outputLevel):\n",
    "    lda, df = findGutComponentNum(tax_level, file_name, filter)\n",
    "    topicBreakdown(df, lda, inputLevel, outputLevel)\n",
    "    outputTableandGraph(df, lda, file_name, filter)\n",
    "    return df, lda"
   ]
  },
  {
   "cell_type": "code",
   "execution_count": null,
   "metadata": {},
   "outputs": [],
   "source": [
    "Phylum_df, Phylum_lda = completeGutAnalysis('Phylum', 'HMP_V13_Phylum_counts', 0, '', '')"
   ]
  },
  {
   "cell_type": "code",
   "execution_count": null,
   "metadata": {},
   "outputs": [],
   "source": [
    "Phylum_df, Phylum_lda = completeGutAnalysis('Phylum', 'HMP_V13_Phylum_counts', 1, '', '')"
   ]
  },
  {
   "cell_type": "code",
   "execution_count": null,
   "metadata": {},
   "outputs": [],
   "source": [
    "family_df, family_lda = completeGutAnalysis('family', 'HMP_V13_family_counts', 0, '', '')"
   ]
  },
  {
   "cell_type": "code",
   "execution_count": null,
   "metadata": {},
   "outputs": [],
   "source": [
    "family_df, family_lda = completeGutAnalysis('family', 'HMP_V13_family_counts', 1, '', '')"
   ]
  },
  {
   "cell_type": "code",
   "execution_count": null,
   "metadata": {},
   "outputs": [],
   "source": [
    "topic_distributions = family_lda.transform(frequency_table)"
   ]
  },
  {
   "cell_type": "code",
   "execution_count": null,
   "metadata": {},
   "outputs": [],
   "source": [
    "OTU_df, OTU_lda = completeGutAnalysis('OTU', 'HMP_V13_OTU_counts', 0, '', '')"
   ]
  },
  {
   "cell_type": "code",
   "execution_count": null,
   "metadata": {},
   "outputs": [],
   "source": [
    "OTU_df, OTU_lda = completeGutAnalysis('OTU', 'HMP_V13_OTU_counts', 1, '', '')"
   ]
  },
  {
   "cell_type": "markdown",
   "metadata": {},
   "source": [
    "Output topic distributions by sample\n",
    "Fix strongest topic output"
   ]
  }
 ],
 "metadata": {
  "kernelspec": {
   "display_name": "sklearn-env",
   "language": "python",
   "name": "python3"
  },
  "language_info": {
   "codemirror_mode": {
    "name": "ipython",
    "version": 3
   },
   "file_extension": ".py",
   "mimetype": "text/x-python",
   "name": "python",
   "nbconvert_exporter": "python",
   "pygments_lexer": "ipython3",
   "version": "3.12.3"
  }
 },
 "nbformat": 4,
 "nbformat_minor": 2
}
