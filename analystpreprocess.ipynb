{
 "cells": [
  {
   "cell_type": "markdown",
   "metadata": {},
   "source": [
    "Preprocessing data to fit Microbiome Analyst formatting"
   ]
  },
  {
   "cell_type": "code",
   "execution_count": 1,
   "metadata": {},
   "outputs": [],
   "source": [
    "import pandas as pd"
   ]
  },
  {
   "cell_type": "code",
   "execution_count": 6,
   "metadata": {},
   "outputs": [],
   "source": [
    "def count_process(filename, outputfilename):\n",
    "    df = pd.read_csv('../metag_topic_modeling/data_sets/' + filename + '.csv')\n",
    "    \n",
    "    # transpose df to match desired format\n",
    "    df = df.T\n",
    "    df.columns = ['#NAME'] + list(df.columns[1:])\n",
    "    df.to_csv('../metag_topic_modeling/data_sets/' + outputfilename + '.csv', index=False)"
   ]
  },
  {
   "cell_type": "code",
   "execution_count": 15,
   "metadata": {},
   "outputs": [],
   "source": [
    "def meta_process(filename, outputfilename):\n",
    "    df = pd.read_csv('../metag_topic_modeling/data_sets/' + filename + '.csv')\n",
    "    \n",
    "    # keep only the necessary columns\n",
    "    df = df[['PSN', 'HMP_BODY_SITE']]\n",
    "\n",
    "    # rename the columns\n",
    "    df.rename(columns={'PSN': '#NAME', 'HMP_BODY_SITE': 'SampleType'}, inplace=True)\n",
    "    df.to_csv('../metag_topic_modeling/data_sets/' + outputfilename + '.csv', index=False)"
   ]
  },
  {
   "cell_type": "code",
   "execution_count": 18,
   "metadata": {},
   "outputs": [],
   "source": [
    "def taxonomy_process(filename, outputfilename):\n",
    "    df = pd.read_csv('../metag_topic_modeling/data_sets/' + filename + '.csv')\n",
    "    \n",
    "    # rename the columns\n",
    "    df.rename(columns={'OTU_ID': '#TAXONOMY'}, inplace=True)\n",
    "    df.to_csv('../metag_topic_modeling/data_sets/' + outputfilename + '.csv', index=False)"
   ]
  },
  {
   "cell_type": "code",
   "execution_count": 9,
   "metadata": {},
   "outputs": [],
   "source": [
    "def family_process(filename, outputfilename):\n",
    "    df = pd.read_csv('../metag_topic_modeling/data_sets/' + filename + '.csv')\n",
    "\n",
    "    # Remove the 'GENUS' and 'OTU_ID' columns\n",
    "    df = df.drop(columns=['GENUS', 'OTU_ID'])\n",
    "\n",
    "    # Move 'FAMILY' to the first column\n",
    "    cols = ['FAMILY'] + [col for col in df.columns if col != 'FAMILY']\n",
    "    df = df[cols]\n",
    "\n",
    "    # Remove duplicate rows based on the 'FAMILY' column\n",
    "    df = df.drop_duplicates(subset='FAMILY', keep='first')\n",
    "\n",
    "    df.rename(columns={'FAMILY': '#TAXONOMY'}, inplace=True)\n",
    "    df.to_csv('../metag_topic_modeling/data_sets/' + outputfilename + '.csv', index=False)"
   ]
  },
  {
   "cell_type": "code",
   "execution_count": null,
   "metadata": {},
   "outputs": [],
   "source": [
    "count_process('HMP_V13_OTU_counts', 'OTU_processed')"
   ]
  },
  {
   "cell_type": "code",
   "execution_count": 7,
   "metadata": {},
   "outputs": [],
   "source": [
    "count_process('HMP_V13_family_counts', 'family_processed')"
   ]
  },
  {
   "cell_type": "code",
   "execution_count": 17,
   "metadata": {},
   "outputs": [],
   "source": [
    "meta_process('HMP_V13_participant_data', 'meta_data_processed')"
   ]
  },
  {
   "cell_type": "code",
   "execution_count": 20,
   "metadata": {},
   "outputs": [],
   "source": [
    "taxonomy_process('HMP_V13_taxonomy_fix', 'taxonomy_processed')"
   ]
  },
  {
   "cell_type": "code",
   "execution_count": 11,
   "metadata": {},
   "outputs": [],
   "source": [
    "family_process('HMP_V13_taxonomy_fix', 'family_taxa_processed')"
   ]
  },
  {
   "cell_type": "code",
   "execution_count": 12,
   "metadata": {},
   "outputs": [
    {
     "name": "stdout",
     "output_type": "stream",
     "text": [
      "(2898, 2)\n",
      "(2898, 161)\n"
     ]
    }
   ],
   "source": [
    "meta_df = pd.read_csv('../metag_topic_modeling/data_sets/meta_data_processed.csv')\n",
    "data_df = pd.read_csv('../metag_topic_modeling/data_sets/family_processed.csv')\n",
    "\n",
    "print(meta_df.shape)\n",
    "print(data_df.shape)"
   ]
  }
 ],
 "metadata": {
  "kernelspec": {
   "display_name": "sklearn-env",
   "language": "python",
   "name": "python3"
  },
  "language_info": {
   "codemirror_mode": {
    "name": "ipython",
    "version": 3
   },
   "file_extension": ".py",
   "mimetype": "text/x-python",
   "name": "python",
   "nbconvert_exporter": "python",
   "pygments_lexer": "ipython3",
   "version": "3.12.3"
  }
 },
 "nbformat": 4,
 "nbformat_minor": 2
}
